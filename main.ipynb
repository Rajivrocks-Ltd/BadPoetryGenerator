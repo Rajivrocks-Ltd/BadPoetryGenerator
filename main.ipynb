{
  "cells": [
    {
      "cell_type": "code",
      "execution_count": null,
      "metadata": {
        "colab": {
          "base_uri": "https://localhost:8080/"
        },
        "id": "YC_JGWRIiaOW",
        "outputId": "6cd832b8-b899-4e1f-9f30-ade0649fa7b3"
      },
      "outputs": [
        {
          "name": "stdout",
          "output_type": "stream",
          "text": [
            "Requirement already satisfied: nltk in /usr/local/lib/python3.10/dist-packages (3.8.1)\n",
            "Requirement already satisfied: click in /usr/local/lib/python3.10/dist-packages (from nltk) (8.1.7)\n",
            "Requirement already satisfied: joblib in /usr/local/lib/python3.10/dist-packages (from nltk) (1.4.2)\n",
            "Requirement already satisfied: regex>=2021.8.3 in /usr/local/lib/python3.10/dist-packages (from nltk) (2024.9.11)\n",
            "Requirement already satisfied: tqdm in /usr/local/lib/python3.10/dist-packages (from nltk) (4.66.5)\n"
          ]
        }
      ],
      "source": [
        "!pip install nltk\n",
        "!pip install pronouncing\n"
      ]
    },
    {
      "cell_type": "code",
      "execution_count": 2,
      "metadata": {
        "id": "voNOOQ1p5R14"
      },
      "outputs": [],
      "source": [
        "import numpy as np\n",
        "import tensorflow as tf\n",
        "from tensorflow.keras.preprocessing.text import Tokenizer\n",
        "from tensorflow.keras.preprocessing.sequence import pad_sequences\n",
        "from tensorflow.keras.models import Sequential\n",
        "from tensorflow.keras.layers import Embedding, LSTM, Dense\n",
        "from tensorflow.keras.optimizers import Adam\n",
        "import random\n",
        "import re"
      ]
    },
    {
      "cell_type": "code",
      "execution_count": 6,
      "metadata": {
        "colab": {
          "base_uri": "https://localhost:8080/"
        },
        "id": "WwSP70lr64g_",
        "outputId": "9b425514-01e1-4394-b0b9-e279c915a4ac"
      },
      "outputs": [
        {
          "name": "stdout",
          "output_type": "stream",
          "text": [
            "Epoch 1/100\n",
            "744/744 - 102s - 136ms/step - accuracy: 0.0588 - loss: 7.1489\n",
            "Epoch 2/100\n",
            "744/744 - 99s - 134ms/step - accuracy: 0.0662 - loss: 6.7329\n",
            "Epoch 3/100\n",
            "744/744 - 99s - 134ms/step - accuracy: 0.0718 - loss: 6.5086\n",
            "Epoch 4/100\n",
            "744/744 - 142s - 190ms/step - accuracy: 0.0804 - loss: 6.2758\n",
            "Epoch 5/100\n",
            "744/744 - 142s - 190ms/step - accuracy: 0.0949 - loss: 5.9983\n",
            "Epoch 6/100\n",
            "744/744 - 100s - 135ms/step - accuracy: 0.1033 - loss: 5.7282\n",
            "Epoch 7/100\n",
            "744/744 - 141s - 190ms/step - accuracy: 0.1138 - loss: 5.4695\n",
            "Epoch 8/100\n",
            "744/744 - 141s - 189ms/step - accuracy: 0.1234 - loss: 5.2122\n",
            "Epoch 9/100\n",
            "744/744 - 143s - 192ms/step - accuracy: 0.1385 - loss: 4.9630\n",
            "Epoch 10/100\n",
            "744/744 - 141s - 190ms/step - accuracy: 0.1554 - loss: 4.7219\n",
            "Epoch 11/100\n",
            "744/744 - 142s - 191ms/step - accuracy: 0.1785 - loss: 4.4822\n",
            "Epoch 12/100\n",
            "744/744 - 141s - 189ms/step - accuracy: 0.2050 - loss: 4.2495\n",
            "Epoch 13/100\n",
            "744/744 - 143s - 193ms/step - accuracy: 0.2318 - loss: 4.0237\n",
            "Epoch 14/100\n",
            "744/744 - 142s - 191ms/step - accuracy: 0.2666 - loss: 3.8055\n",
            "Epoch 15/100\n",
            "744/744 - 99s - 133ms/step - accuracy: 0.2979 - loss: 3.5960\n",
            "Epoch 16/100\n",
            "744/744 - 142s - 191ms/step - accuracy: 0.3350 - loss: 3.3968\n",
            "Epoch 17/100\n",
            "744/744 - 99s - 132ms/step - accuracy: 0.3646 - loss: 3.2219\n",
            "Epoch 18/100\n",
            "744/744 - 142s - 191ms/step - accuracy: 0.3927 - loss: 3.0510\n",
            "Epoch 19/100\n",
            "744/744 - 99s - 133ms/step - accuracy: 0.4201 - loss: 2.8992\n",
            "Epoch 20/100\n",
            "744/744 - 101s - 135ms/step - accuracy: 0.4473 - loss: 2.7477\n",
            "Epoch 21/100\n",
            "744/744 - 142s - 191ms/step - accuracy: 0.4723 - loss: 2.6180\n",
            "Epoch 22/100\n",
            "744/744 - 142s - 190ms/step - accuracy: 0.4937 - loss: 2.5099\n",
            "Epoch 23/100\n",
            "744/744 - 100s - 134ms/step - accuracy: 0.5163 - loss: 2.3956\n",
            "Epoch 24/100\n",
            "744/744 - 99s - 133ms/step - accuracy: 0.5357 - loss: 2.3000\n",
            "Epoch 25/100\n",
            "744/744 - 142s - 191ms/step - accuracy: 0.5508 - loss: 2.1960\n",
            "Epoch 26/100\n",
            "744/744 - 142s - 191ms/step - accuracy: 0.5679 - loss: 2.1091\n",
            "Epoch 27/100\n",
            "744/744 - 142s - 190ms/step - accuracy: 0.5809 - loss: 2.0356\n",
            "Epoch 28/100\n",
            "744/744 - 142s - 191ms/step - accuracy: 0.5962 - loss: 1.9648\n",
            "Epoch 29/100\n",
            "744/744 - 142s - 191ms/step - accuracy: 0.6047 - loss: 1.9016\n",
            "Epoch 30/100\n",
            "744/744 - 142s - 191ms/step - accuracy: 0.6201 - loss: 1.8377\n",
            "Epoch 31/100\n",
            "744/744 - 141s - 190ms/step - accuracy: 0.6304 - loss: 1.7860\n",
            "Epoch 32/100\n",
            "744/744 - 142s - 191ms/step - accuracy: 0.6387 - loss: 1.7345\n",
            "Epoch 33/100\n",
            "744/744 - 100s - 135ms/step - accuracy: 0.6472 - loss: 1.6920\n",
            "Epoch 34/100\n",
            "744/744 - 99s - 134ms/step - accuracy: 0.6520 - loss: 1.6497\n",
            "Epoch 35/100\n",
            "744/744 - 142s - 190ms/step - accuracy: 0.6621 - loss: 1.6053\n",
            "Epoch 36/100\n",
            "744/744 - 100s - 134ms/step - accuracy: 0.6731 - loss: 1.5677\n",
            "Epoch 37/100\n",
            "744/744 - 142s - 190ms/step - accuracy: 0.6772 - loss: 1.5304\n",
            "Epoch 38/100\n",
            "744/744 - 142s - 191ms/step - accuracy: 0.6838 - loss: 1.5040\n",
            "Epoch 39/100\n",
            "744/744 - 99s - 133ms/step - accuracy: 0.6892 - loss: 1.4755\n",
            "Epoch 40/100\n",
            "744/744 - 100s - 134ms/step - accuracy: 0.6909 - loss: 1.4469\n",
            "Epoch 41/100\n",
            "744/744 - 142s - 191ms/step - accuracy: 0.6949 - loss: 1.4265\n",
            "Epoch 42/100\n",
            "744/744 - 142s - 191ms/step - accuracy: 0.6989 - loss: 1.4087\n",
            "Epoch 43/100\n",
            "744/744 - 141s - 189ms/step - accuracy: 0.7074 - loss: 1.3784\n",
            "Epoch 44/100\n",
            "744/744 - 98s - 131ms/step - accuracy: 0.7100 - loss: 1.3562\n",
            "Epoch 45/100\n",
            "744/744 - 142s - 190ms/step - accuracy: 0.7115 - loss: 1.3465\n",
            "Epoch 46/100\n",
            "744/744 - 142s - 191ms/step - accuracy: 0.7122 - loss: 1.3349\n",
            "Epoch 47/100\n",
            "744/744 - 142s - 191ms/step - accuracy: 0.7179 - loss: 1.3156\n",
            "Epoch 48/100\n",
            "744/744 - 142s - 191ms/step - accuracy: 0.7188 - loss: 1.2996\n",
            "Epoch 49/100\n",
            "744/744 - 97s - 131ms/step - accuracy: 0.7208 - loss: 1.2854\n",
            "Epoch 50/100\n",
            "744/744 - 143s - 192ms/step - accuracy: 0.7230 - loss: 1.2757\n",
            "Epoch 51/100\n",
            "744/744 - 98s - 131ms/step - accuracy: 0.7249 - loss: 1.2613\n",
            "Epoch 52/100\n",
            "744/744 - 142s - 191ms/step - accuracy: 0.7266 - loss: 1.2533\n",
            "Epoch 53/100\n",
            "744/744 - 143s - 192ms/step - accuracy: 0.7247 - loss: 1.2463\n",
            "Epoch 54/100\n",
            "744/744 - 98s - 131ms/step - accuracy: 0.7290 - loss: 1.2346\n",
            "Epoch 55/100\n",
            "744/744 - 143s - 192ms/step - accuracy: 0.7318 - loss: 1.2266\n",
            "Epoch 56/100\n",
            "744/744 - 141s - 190ms/step - accuracy: 0.7329 - loss: 1.2146\n",
            "Epoch 57/100\n",
            "744/744 - 142s - 191ms/step - accuracy: 0.7330 - loss: 1.2072\n",
            "Epoch 58/100\n",
            "744/744 - 98s - 132ms/step - accuracy: 0.7355 - loss: 1.2054\n",
            "Epoch 59/100\n",
            "744/744 - 142s - 190ms/step - accuracy: 0.7362 - loss: 1.1892\n",
            "Epoch 60/100\n",
            "744/744 - 142s - 191ms/step - accuracy: 0.7367 - loss: 1.1910\n",
            "Epoch 61/100\n",
            "744/744 - 98s - 132ms/step - accuracy: 0.7378 - loss: 1.1801\n",
            "Epoch 62/100\n",
            "744/744 - 98s - 132ms/step - accuracy: 0.7396 - loss: 1.1759\n",
            "Epoch 63/100\n",
            "744/744 - 142s - 190ms/step - accuracy: 0.7397 - loss: 1.1688\n",
            "Epoch 64/100\n",
            "744/744 - 141s - 190ms/step - accuracy: 0.7421 - loss: 1.1652\n",
            "Epoch 65/100\n",
            "744/744 - 143s - 193ms/step - accuracy: 0.7397 - loss: 1.1641\n",
            "Epoch 66/100\n",
            "744/744 - 141s - 189ms/step - accuracy: 0.7432 - loss: 1.1504\n",
            "Epoch 67/100\n",
            "744/744 - 143s - 192ms/step - accuracy: 0.7452 - loss: 1.1482\n",
            "Epoch 68/100\n",
            "744/744 - 142s - 191ms/step - accuracy: 0.7442 - loss: 1.1438\n",
            "Epoch 69/100\n",
            "744/744 - 98s - 132ms/step - accuracy: 0.7462 - loss: 1.1390\n",
            "Epoch 70/100\n",
            "744/744 - 141s - 189ms/step - accuracy: 0.7432 - loss: 1.1386\n",
            "Epoch 71/100\n",
            "744/744 - 144s - 193ms/step - accuracy: 0.7452 - loss: 1.1338\n",
            "Epoch 72/100\n",
            "744/744 - 98s - 132ms/step - accuracy: 0.7448 - loss: 1.1301\n",
            "Epoch 73/100\n",
            "744/744 - 97s - 131ms/step - accuracy: 0.7463 - loss: 1.1314\n",
            "Epoch 74/100\n",
            "744/744 - 143s - 192ms/step - accuracy: 0.7475 - loss: 1.1222\n",
            "Epoch 75/100\n",
            "744/744 - 142s - 190ms/step - accuracy: 0.7478 - loss: 1.1184\n",
            "Epoch 76/100\n",
            "744/744 - 142s - 190ms/step - accuracy: 0.7483 - loss: 1.1135\n",
            "Epoch 77/100\n",
            "744/744 - 97s - 131ms/step - accuracy: 0.7491 - loss: 1.1121\n",
            "Epoch 78/100\n",
            "744/744 - 99s - 133ms/step - accuracy: 0.7496 - loss: 1.1088\n",
            "Epoch 79/100\n",
            "744/744 - 141s - 189ms/step - accuracy: 0.7498 - loss: 1.1060\n",
            "Epoch 80/100\n",
            "744/744 - 142s - 191ms/step - accuracy: 0.7494 - loss: 1.1062\n",
            "Epoch 81/100\n",
            "744/744 - 143s - 192ms/step - accuracy: 0.7495 - loss: 1.0999\n",
            "Epoch 82/100\n",
            "744/744 - 98s - 131ms/step - accuracy: 0.7506 - loss: 1.0950\n",
            "Epoch 83/100\n",
            "744/744 - 142s - 191ms/step - accuracy: 0.7533 - loss: 1.0945\n",
            "Epoch 84/100\n",
            "744/744 - 143s - 192ms/step - accuracy: 0.7517 - loss: 1.0986\n",
            "Epoch 85/100\n",
            "744/744 - 141s - 190ms/step - accuracy: 0.7522 - loss: 1.0911\n",
            "Epoch 86/100\n",
            "744/744 - 142s - 192ms/step - accuracy: 0.7508 - loss: 1.0927\n",
            "Epoch 87/100\n",
            "744/744 - 142s - 191ms/step - accuracy: 0.7527 - loss: 1.0847\n",
            "Epoch 88/100\n",
            "744/744 - 142s - 191ms/step - accuracy: 0.7502 - loss: 1.0887\n",
            "Epoch 89/100\n",
            "744/744 - 143s - 192ms/step - accuracy: 0.7532 - loss: 1.0798\n",
            "Epoch 90/100\n",
            "744/744 - 144s - 194ms/step - accuracy: 0.7500 - loss: 1.0852\n",
            "Epoch 91/100\n",
            "744/744 - 143s - 192ms/step - accuracy: 0.7517 - loss: 1.0836\n",
            "Epoch 92/100\n",
            "744/744 - 144s - 194ms/step - accuracy: 0.7508 - loss: 1.0847\n",
            "Epoch 93/100\n",
            "744/744 - 140s - 188ms/step - accuracy: 0.7526 - loss: 1.0813\n",
            "Epoch 94/100\n",
            "744/744 - 144s - 193ms/step - accuracy: 0.7526 - loss: 1.0775\n",
            "Epoch 95/100\n",
            "744/744 - 142s - 191ms/step - accuracy: 0.7531 - loss: 1.0746\n",
            "Epoch 96/100\n",
            "744/744 - 105s - 141ms/step - accuracy: 0.7538 - loss: 1.0740\n",
            "Epoch 97/100\n",
            "744/744 - 141s - 189ms/step - accuracy: 0.7541 - loss: 1.0750\n",
            "Epoch 98/100\n",
            "744/744 - 104s - 140ms/step - accuracy: 0.7545 - loss: 1.0720\n",
            "Epoch 99/100\n",
            "744/744 - 142s - 190ms/step - accuracy: 0.7539 - loss: 1.0689\n",
            "Epoch 100/100\n",
            "744/744 - 104s - 140ms/step - accuracy: 0.7532 - loss: 1.0687\n",
            "The sun went out to work — no the town and pleased it was as she was not be a brook in\n"
          ]
        }
      ],
      "source": [
        "import numpy as np\n",
        "import tensorflow as tf\n",
        "from tensorflow.keras.preprocessing.text import Tokenizer\n",
        "from tensorflow.keras.preprocessing.sequence import pad_sequences\n",
        "import json\n",
        "import os\n",
        "\n",
        "# Read the poems from the provided JSON file\n",
        "def read_poems_from_json(file_path):\n",
        "    with open(file_path, 'r', encoding='utf-8') as f:\n",
        "        poems_data = json.load(f)\n",
        "\n",
        "    all_poems = \"\"\n",
        "    for poem in poems_data:\n",
        "        all_poems += poem['text'].replace(\"<START>\", \"\").replace(\"<END>\", \"\") + \"\\n\\n\"\n",
        "    return all_poems\n",
        "\n",
        "# Prepare the input text sequences for the LSTM model\n",
        "def prepare_sequences(text, max_sequence_len):\n",
        "    tokenizer = Tokenizer()\n",
        "    tokenizer.fit_on_texts([text])\n",
        "\n",
        "    sequences = []\n",
        "    for line in text.split('\\n'):\n",
        "        token_list = tokenizer.texts_to_sequences([line])[0]\n",
        "        for i in range(1, len(token_list)):\n",
        "            n_gram_sequence = token_list[:i+1]\n",
        "            sequences.append(n_gram_sequence)\n",
        "\n",
        "    max_sequence_len = max([len(seq) for seq in sequences])\n",
        "    sequences = pad_sequences(sequences, maxlen=max_sequence_len, padding='pre')\n",
        "\n",
        "    X, y = sequences[:,:-1], sequences[:,-1]\n",
        "    y = tf.keras.utils.to_categorical(y, num_classes=len(tokenizer.word_index) + 1)\n",
        "\n",
        "    return X, y, tokenizer, max_sequence_len\n",
        "\n",
        "# Build the LSTM model\n",
        "def build_model(vocab_size, max_sequence_len):\n",
        "    model = tf.keras.Sequential([\n",
        "        tf.keras.layers.Embedding(vocab_size, 100, input_length=max_sequence_len - 1),\n",
        "        tf.keras.layers.LSTM(150),\n",
        "        tf.keras.layers.Dropout(0.2),\n",
        "        tf.keras.layers.Dense(vocab_size, activation='softmax')\n",
        "    ])\n",
        "\n",
        "    model.compile(loss='categorical_crossentropy', optimizer='adam', metrics=['accuracy'])\n",
        "    return model\n",
        "\n",
        "# Generate text using the trained model\n",
        "def generate_text(seed_text, next_words, model, max_sequence_len, tokenizer):\n",
        "    for _ in range(next_words):\n",
        "        token_list = tokenizer.texts_to_sequences([seed_text])[0]\n",
        "        token_list = pad_sequences([token_list], maxlen=max_sequence_len - 1, padding='pre')\n",
        "        predicted = np.argmax(model.predict(token_list, verbose=0), axis=-1)\n",
        "        output_word = \"\"\n",
        "        for word, index in tokenizer.word_index.items():\n",
        "            if index == predicted:\n",
        "                output_word = word\n",
        "                break\n",
        "        seed_text += \" \" + output_word\n",
        "    return seed_text\n",
        "\n",
        "# Load the dataset and prepare sequences\n",
        "file_path = '/content/cleaned_poems.json'\n",
        "poems_text = read_poems_from_json(file_path)\n",
        "\n",
        "X, y, tokenizer, max_sequence_len = prepare_sequences(poems_text, max_sequence_len=200)\n",
        "\n",
        "# Build and train the model\n",
        "model = build_model(vocab_size=len(tokenizer.word_index) + 1, max_sequence_len=max_sequence_len)\n",
        "model.fit(X, y, epochs=100, verbose=2)\n",
        "\n",
        "# Generate new text\n",
        "seed_text = \"The sun\"\n",
        "next_words = 20\n",
        "generated_text = generate_text(seed_text, next_words, model, max_sequence_len, tokenizer)\n",
        "print(generated_text)\n"
      ]
    },
    {
      "cell_type": "code",
      "execution_count": 7,
      "metadata": {
        "colab": {
          "base_uri": "https://localhost:8080/"
        },
        "id": "FYYajIVVAqvW",
        "outputId": "c3e3642b-81fb-4043-a060-7a2b77ab9dcd"
      },
      "outputs": [
        {
          "name": "stdout",
          "output_type": "stream",
          "text": [
            "The sun went out to work — no the town and pleased it was as she was not be a brook in the finished picture the april spirit through the fac simile\n"
          ]
        }
      ],
      "source": [
        "# Generate new text\n",
        "seed_text = \"The sun\"\n",
        "next_words = 30\n",
        "generated_text = generate_text(seed_text, next_words, model, max_sequence_len, tokenizer)\n",
        "print(generated_text)"
      ]
    },
    {
      "cell_type": "code",
      "execution_count": 8,
      "metadata": {
        "colab": {
          "base_uri": "https://localhost:8080/"
        },
        "id": "bu9hOu7PlP-D",
        "outputId": "ef9e28ee-65a0-4c03-8dca-560d68d3b414"
      },
      "outputs": [
        {
          "name": "stderr",
          "output_type": "stream",
          "text": [
            "WARNING:absl:You are saving your model as an HDF5 file via `model.save()` or `keras.saving.save_model(model)`. This file format is considered legacy. We recommend using instead the native Keras format, e.g. `model.save('my_model.keras')` or `keras.saving.save_model(model, 'my_model.keras')`. \n"
          ]
        }
      ],
      "source": [
        "model.save('lstm_poem_model.h5')"
      ]
    },
    {
      "cell_type": "code",
      "execution_count": 9,
      "metadata": {
        "id": "aUixdttgkRTa"
      },
      "outputs": [],
      "source": [
        "import pickle\n",
        "\n",
        "# Save the tokenizer using pickle\n",
        "with open('tokenizer.pickle', 'wb') as handle:\n",
        "    pickle.dump(tokenizer, handle, protocol=pickle.HIGHEST_PROTOCOL)\n"
      ]
    },
    {
      "cell_type": "code",
      "execution_count": 10,
      "metadata": {
        "colab": {
          "base_uri": "https://localhost:8080/"
        },
        "id": "K9aarCNt0ziP",
        "outputId": "6fc011d7-f6fa-440f-9099-e239e7a1a417"
      },
      "outputs": [
        {
          "name": "stdout",
          "output_type": "stream",
          "text": [
            "love by memorial mould of light or most in the freckled rose of which writing delinquencies the surroundings in which any of emily dickinson's verses are known to have been written usually serve to explain them clearly but in general the present volume is full of thoughts needing no interpretation to\n"
          ]
        }
      ],
      "source": [
        "seed_text = \"love\"\n",
        "next_words = 50\n",
        "generated_text = generate_text(seed_text, next_words, model, max_sequence_len, tokenizer)\n",
        "print(generated_text)"
      ]
    },
    {
      "cell_type": "code",
      "execution_count": 7,
      "metadata": {
        "colab": {
          "base_uri": "https://localhost:8080/"
        },
        "id": "oHnQWj1d1fny",
        "outputId": "30225b25-4fae-4986-e4cc-0b560ad8c11a"
      },
      "outputs": [
        {
          "name": "stderr",
          "output_type": "stream",
          "text": [
            "WARNING:absl:Compiled the loaded model, but the compiled metrics have yet to be built. `model.compile_metrics` will be empty until you train or evaluate the model.\n"
          ]
        },
        {
          "name": "stdout",
          "output_type": "stream",
          "text": [
            "THE GRASS so little has to do — its unknown and bees no must have the more volume of a thought has found a response as wide and sympathetic as it has been unexpected even to those who knew best her compelling\n"
          ]
        }
      ],
      "source": [
        "import numpy as np\n",
        "import tensorflow as tf\n",
        "from tensorflow.keras.preprocessing.sequence import pad_sequences\n",
        "import pickle\n",
        "\n",
        "# Load the saved model\n",
        "from tensorflow.keras.models import load_model\n",
        "model = load_model('/content/lstm_poem_model.h5')\n",
        "\n",
        "# Load the saved tokenizer\n",
        "with open('/content/tokenizer.pickle', 'rb') as handle:\n",
        "    tokenizer = pickle.load(handle)\n",
        "\n",
        "# Generate text function\n",
        "def generate_text(seed_text, next_words, model, max_sequence_len, tokenizer):\n",
        "    for _ in range(next_words):\n",
        "        token_list = tokenizer.texts_to_sequences([seed_text])[0]\n",
        "        token_list = pad_sequences([token_list], maxlen=max_sequence_len - 1, padding='pre')\n",
        "        predicted = np.argmax(model.predict(token_list, verbose=0), axis=-1)\n",
        "        output_word = \"\"\n",
        "        for word, index in tokenizer.word_index.items():\n",
        "            if index == predicted:\n",
        "                output_word = word\n",
        "                break\n",
        "        seed_text += \" \" + output_word\n",
        "    return seed_text\n",
        "\n",
        "# Set parameters for generation\n",
        "seed_text = \"THE GRASS\"  # The seed word\n",
        "next_words = 40      # Number of words to generate\n",
        "\n",
        "# Generate the poem\n",
        "max_sequence_len = 200  # Set to your original max sequence length\n",
        "generated_text = generate_text(seed_text, next_words, model, max_sequence_len, tokenizer)\n",
        "print(generated_text)\n"
      ]
    }
  ],
  "metadata": {
    "colab": {
      "provenance": []
    },
    "kernelspec": {
      "display_name": "Python 3",
      "name": "python3"
    },
    "language_info": {
      "name": "python"
    }
  },
  "nbformat": 4,
  "nbformat_minor": 0
}
